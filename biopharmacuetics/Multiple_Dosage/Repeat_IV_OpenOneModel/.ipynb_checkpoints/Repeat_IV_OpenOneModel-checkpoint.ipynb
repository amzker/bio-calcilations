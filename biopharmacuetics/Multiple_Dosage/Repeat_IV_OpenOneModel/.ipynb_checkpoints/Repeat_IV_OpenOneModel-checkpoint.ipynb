{
 "cells": [
  {
   "cell_type": "code",
   "execution_count": 136,
   "id": "84c764a9",
   "metadata": {},
   "outputs": [],
   "source": [
    "import matplotlib.pyplot as plt\n",
    "import numpy as np\n"
   ]
  },
  {
   "cell_type": "code",
   "execution_count": 137,
   "id": "f5b144f2",
   "metadata": {},
   "outputs": [
    {
     "name": "stdout",
     "output_type": "stream",
     "text": [
      "Enter Value of DR1 : 600\n",
      "Enter Value of DR2 : 1200\n",
      "Enter Value of Css1: 9.8\n",
      "Enter Value of Css2: 28.6\n",
      "Km:  31.142222222222216\n",
      "Vmax :  2506.666666666666\n"
     ]
    }
   ],
   "source": [
    "#D1 = int(input(\"Enter Value of DR1 : \"))\n",
    "#D2 = int(input(\"Enter Value of DR2 : \"))\n",
    "#C1 = float(input(\"Enter Value of Css1: \"))\n",
    "#C2 = float(input(\"Enter Value of Css2: \"))\n",
    "Dzero = 1000 #mg \n",
    "th = 3 #hour \n",
    "Vd = 20 #Liter\n",
    "\n",
    "\n",
    "FD = D2 - D1\n",
    "FDR = D1/C1\n",
    "FDRS= D2/C2\n",
    "xx = FDR - FDRS\n",
    "K =  FD/xx\n",
    "\n",
    "print(\"Km: \",K)\n",
    "\n",
    "zz = K*D1/C1\n",
    "V = D1+zz\n",
    "print(\"Vmax : \",V)"
   ]
  },
  {
   "cell_type": "code",
   "execution_count": 138,
   "id": "4bace611",
   "metadata": {
    "scrolled": true
   },
   "outputs": [
    {
     "data": {
      "image/png": "[encoded data removed]",
      "text/plain": [
       "<Figure size 432x288 with 1 Axes>"
      ]
     },
     "metadata": {
      "needs_background": "light"
     },
     "output_type": "display_data"
    }
   ],
   "source": [
    "\n",
    "#D1, D2 ,C1 , C2 = 600,1200,9.8,28.6\n",
    "C = np.linspace(0,100, num = 100)\n",
    "def D(C, V, K):\n",
    "    return (V*C)/(K+C)\n",
    "\n",
    "plt.plot(D(C ,V ,K), linestyle = '-')\n",
    "plt.xlabel(\"C\")\n",
    "plt.ylabel(\"D\")\n",
    "plt.plot(K,V/2 , '-s', color = 'black')\n",
    "plt.axhline(y = V/2, color = 'grey', linestyle = '--')\n",
    "plt.axvline(x = K, color = 'grey', linestyle = '--')\n",
    "plt.show()\n",
    "#D(C,V,K)\n",
    "#print(D(C,V,K))\n",
    "\n"
   ]
  },
  {
   "cell_type": "code",
   "execution_count": 139,
   "id": "102b5fb5",
   "metadata": {},
   "outputs": [
    {
     "ename": "SyntaxError",
     "evalue": "invalid syntax (<ipython-input-139-882c67f906f5>, line 1)",
     "output_type": "error",
     "traceback": [
      "\u001b[0;36m  File \u001b[0;32m\"<ipython-input-139-882c67f906f5>\"\u001b[0;36m, line \u001b[0;32m1\u001b[0m\n\u001b[0;31m    aaprre line space etle array no range\u001b[0m\n\u001b[0m           ^\u001b[0m\n\u001b[0;31mSyntaxError\u001b[0m\u001b[0;31m:\u001b[0m invalid syntax\n"
     ]
    }
   ],
   "source": [
    "aaprre line space etle array no range \n",
    "ne ema num = argument impoort chhe ne eno formula\n",
    "B-A/NUM chhe \n",
    "\n",
    "ex uper nu\n",
    "\n",
    "100-0/100 = 1 etle par 1 point e graph plot thase"
   ]
  }
 ],
 "metadata": {
  "kernelspec": {
   "display_name": "Python 3",
   "language": "python",
   "name": "python3"
  },
  "language_info": {
   "codemirror_mode": {
    "name": "ipython",
    "version": 3
   },
   "file_extension": ".py",
   "mimetype": "text/x-python",
   "name": "python",
   "nbconvert_exporter": "python",
   "pygments_lexer": "ipython3",
   "version": "3.8.8"
  }
 },
 "nbformat": 4,
 "nbformat_minor": 5
}
