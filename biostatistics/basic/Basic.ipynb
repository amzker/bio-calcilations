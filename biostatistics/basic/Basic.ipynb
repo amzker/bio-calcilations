{
 "cells": [
  {
   "cell_type": "code",
   "execution_count": 25,
   "id": "18bc58f1",
   "metadata": {},
   "outputs": [],
   "source": [
    "import pandas as pd\n",
    "import numpy as np\n",
    "\n"
   ]
  },
  {
   "cell_type": "markdown",
   "id": "829bf936",
   "metadata": {},
   "source": [
    "# For Descrete Data"
   ]
  },
  {
   "cell_type": "code",
   "execution_count": 177,
   "id": "392c81cd",
   "metadata": {},
   "outputs": [
    {
     "data": {
      "text/html": [
       "<div>\n",
       "<style scoped>\n",
       "    .dataframe tbody tr th:only-of-type {\n",
       "        vertical-align: middle;\n",
       "    }\n",
       "\n",
       "    .dataframe tbody tr th {\n",
       "        vertical-align: top;\n",
       "    }\n",
       "\n",
       "    .dataframe thead th {\n",
       "        text-align: right;\n",
       "    }\n",
       "</style>\n",
       "<table border=\"1\" class=\"dataframe\">\n",
       "  <thead>\n",
       "    <tr style=\"text-align: right;\">\n",
       "      <th></th>\n",
       "      <th>x</th>\n",
       "      <th>f</th>\n",
       "    </tr>\n",
       "  </thead>\n",
       "  <tbody>\n",
       "    <tr>\n",
       "      <th>0</th>\n",
       "      <td>0</td>\n",
       "      <td>25</td>\n",
       "    </tr>\n",
       "    <tr>\n",
       "      <th>1</th>\n",
       "      <td>1</td>\n",
       "      <td>16</td>\n",
       "    </tr>\n",
       "    <tr>\n",
       "      <th>2</th>\n",
       "      <td>2</td>\n",
       "      <td>36</td>\n",
       "    </tr>\n",
       "    <tr>\n",
       "      <th>3</th>\n",
       "      <td>3</td>\n",
       "      <td>48</td>\n",
       "    </tr>\n",
       "    <tr>\n",
       "      <th>4</th>\n",
       "      <td>4</td>\n",
       "      <td>30</td>\n",
       "    </tr>\n",
       "    <tr>\n",
       "      <th>5</th>\n",
       "      <td>5</td>\n",
       "      <td>16</td>\n",
       "    </tr>\n",
       "    <tr>\n",
       "      <th>6</th>\n",
       "      <td>6</td>\n",
       "      <td>15</td>\n",
       "    </tr>\n",
       "    <tr>\n",
       "      <th>7</th>\n",
       "      <td>7</td>\n",
       "      <td>3</td>\n",
       "    </tr>\n",
       "    <tr>\n",
       "      <th>8</th>\n",
       "      <td>8</td>\n",
       "      <td>2</td>\n",
       "    </tr>\n",
       "  </tbody>\n",
       "</table>\n",
       "</div>"
      ],
      "text/plain": [
       "   x   f\n",
       "0  0  25\n",
       "1  1  16\n",
       "2  2  36\n",
       "3  3  48\n",
       "4  4  30\n",
       "5  5  16\n",
       "6  6  15\n",
       "7  7   3\n",
       "8  8   2"
      ]
     },
     "execution_count": 177,
     "metadata": {},
     "output_type": "execute_result"
    }
   ],
   "source": [
    "#Input\n",
    "# x , f\n",
    "location = \"./data.xlsx\"\n",
    "file = pd.read_excel(location)\n",
    "file"
   ]
  },
  {
   "cell_type": "code",
   "execution_count": 30,
   "id": "6ee438a5",
   "metadata": {
    "scrolled": true
   },
   "outputs": [
    {
     "name": "stdout",
     "output_type": "stream",
     "text": [
      "2.926701570680628\n"
     ]
    }
   ],
   "source": [
    "\n",
    "#mean \n",
    "Xmean = np.sum(file.x * file.f)/np.sum(file.f)\n",
    "\n",
    "print(Xmean)"
   ]
  },
  {
   "cell_type": "code",
   "execution_count": null,
   "id": "eb5dde2e",
   "metadata": {},
   "outputs": [],
   "source": []
  },
  {
   "cell_type": "code",
   "execution_count": null,
   "id": "b7394da9",
   "metadata": {},
   "outputs": [],
   "source": []
  },
  {
   "cell_type": "code",
   "execution_count": null,
   "id": "34f16b52",
   "metadata": {},
   "outputs": [],
   "source": []
  },
  {
   "cell_type": "markdown",
   "id": "3c9c1f63",
   "metadata": {},
   "source": [
    "# For Continuos Data"
   ]
  },
  {
   "cell_type": "code",
   "execution_count": 124,
   "id": "58555fb2",
   "metadata": {
    "scrolled": true
   },
   "outputs": [
    {
     "data": {
      "text/html": [
       "<div>\n",
       "<style scoped>\n",
       "    .dataframe tbody tr th:only-of-type {\n",
       "        vertical-align: middle;\n",
       "    }\n",
       "\n",
       "    .dataframe tbody tr th {\n",
       "        vertical-align: top;\n",
       "    }\n",
       "\n",
       "    .dataframe thead th {\n",
       "        text-align: right;\n",
       "    }\n",
       "</style>\n",
       "<table border=\"1\" class=\"dataframe\">\n",
       "  <thead>\n",
       "    <tr style=\"text-align: right;\">\n",
       "      <th></th>\n",
       "      <th>x</th>\n",
       "      <th>range</th>\n",
       "      <th>f</th>\n",
       "    </tr>\n",
       "  </thead>\n",
       "  <tbody>\n",
       "    <tr>\n",
       "      <th>0</th>\n",
       "      <td>0</td>\n",
       "      <td>10</td>\n",
       "      <td>23</td>\n",
       "    </tr>\n",
       "    <tr>\n",
       "      <th>1</th>\n",
       "      <td>10</td>\n",
       "      <td>20</td>\n",
       "      <td>57</td>\n",
       "    </tr>\n",
       "    <tr>\n",
       "      <th>2</th>\n",
       "      <td>20</td>\n",
       "      <td>30</td>\n",
       "      <td>138</td>\n",
       "    </tr>\n",
       "    <tr>\n",
       "      <th>3</th>\n",
       "      <td>30</td>\n",
       "      <td>40</td>\n",
       "      <td>277</td>\n",
       "    </tr>\n",
       "    <tr>\n",
       "      <th>4</th>\n",
       "      <td>40</td>\n",
       "      <td>50</td>\n",
       "      <td>105</td>\n",
       "    </tr>\n",
       "    <tr>\n",
       "      <th>5</th>\n",
       "      <td>50</td>\n",
       "      <td>60</td>\n",
       "      <td>74</td>\n",
       "    </tr>\n",
       "    <tr>\n",
       "      <th>6</th>\n",
       "      <td>60</td>\n",
       "      <td>70</td>\n",
       "      <td>21</td>\n",
       "    </tr>\n",
       "  </tbody>\n",
       "</table>\n",
       "</div>"
      ],
      "text/plain": [
       "    x  range    f\n",
       "0   0     10   23\n",
       "1  10     20   57\n",
       "2  20     30  138\n",
       "3  30     40  277\n",
       "4  40     50  105\n",
       "5  50     60   74\n",
       "6  60     70   21"
      ]
     },
     "execution_count": 124,
     "metadata": {},
     "output_type": "execute_result"
    }
   ],
   "source": [
    "#Input\n",
    "# x , f\n",
    "locationc = \"./data-conti.xlsx\"\n",
    "filec = pd.read_excel(locationc)\n",
    "x = filec.x\n",
    "f = filec.f\n",
    "filec"
   ]
  },
  {
   "cell_type": "code",
   "execution_count": 146,
   "id": "25893959",
   "metadata": {
    "scrolled": true
   },
   "outputs": [
    {
     "name": "stdout",
     "output_type": "stream",
     "text": [
      "difference of range:  10\n",
      "0     5.0\n",
      "1    15.0\n",
      "2    25.0\n",
      "3    35.0\n",
      "4    45.0\n",
      "5    55.0\n",
      "6    65.0\n",
      "dtype: float64\n",
      "Average:  35.0\n",
      "Xcmean:  34.492805755395686\n"
     ]
    }
   ],
   "source": [
    "## mean \n",
    "#test = np.linspace(filec.x,filec.range,num=10) #change based on your requirment\n",
    "#Xa = np.mean(test)\n",
    "\n",
    "xdiff = (filec.x+filec.range)/2\n",
    "change = filec.x[2]-filec.x[1] #change\n",
    "print(\"difference of range: \", chnage)\n",
    "print(xdiff)\n",
    "Xa = np.mean(xdiff)\n",
    "d = ((x-Xa)/change)\n",
    "fd = np.sum(f*d) \n",
    "#print(d)\n",
    "print(\"Average: \", Xa)\n",
    "Xcmean = Xa + fd/np.sum(f)\n",
    "print(\"Xcmean: \", Xcmean)"
   ]
  },
  {
   "cell_type": "code",
   "execution_count": 178,
   "id": "bf702d24",
   "metadata": {},
   "outputs": [
    {
     "name": "stdout",
     "output_type": "stream",
     "text": [
      "7\n",
      "35.0\n"
     ]
    }
   ],
   "source": [
    "#Median\n",
    "n = len(filec)\n",
    "print(n)\n",
    "\n",
    "if n%2 == 1:\n",
    "    Mn = (n+1)/2\n",
    "    Median = xdiff[Mn-1] #because array starts at 0 and data starts at 1\n",
    "    print(Median)\n",
    "elif n%2 == 0:\n",
    "    Mn = (n/2)\n",
    "    Median = xdiff[Mn]\n",
    "    print(Median)"
   ]
  },
  {
   "cell_type": "code",
   "execution_count": null,
   "id": "29fa90d5",
   "metadata": {},
   "outputs": [],
   "source": []
  },
  {
   "cell_type": "code",
   "execution_count": null,
   "id": "b6c32424",
   "metadata": {},
   "outputs": [],
   "source": []
  }
 ],
 "metadata": {
  "kernelspec": {
   "display_name": "Python 3",
   "language": "python",
   "name": "python3"
  },
  "language_info": {
   "codemirror_mode": {
    "name": "ipython",
    "version": 3
   },
   "file_extension": ".py",
   "mimetype": "text/x-python",
   "name": "python",
   "nbconvert_exporter": "python",
   "pygments_lexer": "ipython3",
   "version": "3.8.8"
  }
 },
 "nbformat": 4,
 "nbformat_minor": 5
}
