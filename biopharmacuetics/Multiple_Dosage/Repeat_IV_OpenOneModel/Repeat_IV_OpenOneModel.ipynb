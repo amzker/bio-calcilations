{
 "cells": [
  {
   "cell_type": "code",
   "execution_count": 2,
   "id": "84c764a9",
   "metadata": {},
   "outputs": [],
   "source": [
    "import matplotlib.pyplot as plt\n",
    "import numpy as np\n"
   ]
  },
  {
   "cell_type": "code",
   "execution_count": 30,
   "id": "f5b144f2",
   "metadata": {
    "scrolled": false
   },
   "outputs": [
    {
     "name": "stdout",
     "output_type": "stream",
     "text": [
      "Dmax:  1333.4641925966837\n",
      "Dmin:  333.4641925966837\n",
      "Cmax:  66.67320962983419\n",
      "Cmin:  16.673209629834183\n",
      "[1.         1.2500736  1.31261041 1.32824921 1.33216006 1.33313806]\n"
     ]
    }
   ],
   "source": [
    "#Dmax & Dmin\n",
    "\n",
    "Dzero = 1000 #mg \n",
    "th = 3 #hour \n",
    "Vd = 20 #Liter\n",
    "t = 6 #hour\n",
    "k = 0.693/th\n",
    "f = np.exp(-k*t)\n",
    "Dmax = Dzero/(1-f)\n",
    "Dmin = Dmax-Dzero\n",
    "print(\"Dmax: \",Dmax)\n",
    "print(\"Dmin: \",Dmin)\n",
    "Cmax = Dmax/Vd\n",
    "Cmin = Dmin/Vd\n",
    "print(\"Cmax: \",Cmax)\n",
    "print(\"Cmin: \",Cmin)\n",
    "\n",
    "\n",
    "fn = (1-np.exp(-n*k*t))/(1-f)*np.exp(-k*0)\n",
    "print(fn)"
   ]
  },
  {
   "cell_type": "code",
   "execution_count": null,
   "id": "4bace611",
   "metadata": {
    "scrolled": false
   },
   "outputs": [],
   "source": [
    "#D=Dzero((1-np.exp(-n*k*t))/1-f)*np.exp(-k*0)\n",
    "n = np.linspace(1,6,num=6)\n",
    "def D(Dzero,n,k,t,f):\n",
    "    return Dzero * fn\n",
    "c = Dzero*fn\n",
    "def C(c,Vd):\n",
    "    return c/Vd\n",
    "#D1, D2 ,C1 , C2 = 600,1200,9.8,28.6\n",
    "#C = np.linspace(0,100, num = 100)\n",
    "#def D(C, V, K):\n",
    "#    return (V*C)/(K+C)\n",
    "\n",
    "plt.plot(D(Dzero,n,k,t,f), linestyle = '-')\n",
    "plt.plot(C(c,fn), linestyle = '-')\n",
    "plt.xlabel(\"n\")\n",
    "plt.ylabel(\"D\")\n",
    "plt.legend(\"D\",\"Cp\")\n",
    "plt.show()\n",
    "#D(C,V,K)\n",
    "#print(D(C,V,K))\n",
    "\n"
   ]
  },
  {
   "cell_type": "markdown",
   "id": "153c3b54",
   "metadata": {},
   "source": [
    "'''aaprre line space etle array no range \n",
    "ne ema num = argument impoort chhe ne eno formula\n",
    "B-A/NUM chhe \n",
    "\n",
    "ex uper nu\n",
    "\n",
    "100-0/100 = 1 etle par 1 point e graph plot thase'''"
   ]
  },
  {
   "cell_type": "code",
   "execution_count": null,
   "id": "00223087",
   "metadata": {},
   "outputs": [],
   "source": []
  }
 ],
 "metadata": {
  "kernelspec": {
   "display_name": "Python 3",
   "language": "python",
   "name": "python3"
  },
  "language_info": {
   "codemirror_mode": {
    "name": "ipython",
    "version": 3
   },
   "file_extension": ".py",
   "mimetype": "text/x-python",
   "name": "python",
   "nbconvert_exporter": "python",
   "pygments_lexer": "ipython3",
   "version": "3.8.8"
  }
 },
 "nbformat": 4,
 "nbformat_minor": 5
}
